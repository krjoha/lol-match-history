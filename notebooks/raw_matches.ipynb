{
 "cells": [
  {
   "cell_type": "markdown",
   "id": "f3599cde-24fa-491b-b77f-97ed9ee487d6",
   "metadata": {},
   "source": [
    "# Load matches JSON"
   ]
  },
  {
   "cell_type": "code",
   "execution_count": 1,
   "id": "05c0fe86-4660-4db2-8daf-a526bbedfe02",
   "metadata": {},
   "outputs": [],
   "source": [
    "import lol_match_history\n",
    "import os\n",
    "import json\n",
    "\n",
    "data_path = os.environ.get(\"data_path\")\n",
    "raw_data_path = os.path.join(data_path, \"raw\")\n",
    "files = os.listdir(raw_data_path)\n",
    "\n",
    "match_files = [file for file in files if file.startswith(\"matches_\")]\n",
    "profile_files = [file for file in files if file.startswith(\"profile_\")]\n",
    "\n",
    "# print(match_files)\n",
    "# print(profile_files)"
   ]
  },
  {
   "cell_type": "markdown",
   "id": "ff80640c-8431-4620-8f8b-743424fb0b00",
   "metadata": {},
   "source": [
    "# Find team members and their uuid"
   ]
  },
  {
   "cell_type": "code",
   "execution_count": 2,
   "id": "aa081861-b6ab-4340-93da-9525c5be183a",
   "metadata": {},
   "outputs": [],
   "source": [
    "team_members = {}\n",
    "\n",
    "for profile_file in profile_files:\n",
    "    with open(os.path.join(raw_data_path, profile_file)) as f:\n",
    "        profile = json.load(f)\n",
    "        \n",
    "        summoner_name = profile[\"name\"]\n",
    "        player_uuid = profile[\"puuid\"]\n",
    "        team_members[player_uuid] = summoner_name\n",
    "\n",
    "# print(team_members)"
   ]
  },
  {
   "cell_type": "markdown",
   "id": "5fcf023a-5280-4e98-892a-983e5f44990d",
   "metadata": {},
   "source": [
    "# Find matches where every team member participated"
   ]
  },
  {
   "cell_type": "code",
   "execution_count": 3,
   "id": "00a323cf-afb7-411d-b38f-a5b30f6cfc46",
   "metadata": {},
   "outputs": [
    {
     "name": "stdout",
     "output_type": "stream",
     "text": [
      "There are 22 matches where every player in the team participated\n"
     ]
    }
   ],
   "source": [
    "team_matches = {}\n",
    "\n",
    "for match_file in match_files:\n",
    "    with open(os.path.join(raw_data_path, match_file)) as f:\n",
    "        player_matches = json.load(f)[\"matches\"]\n",
    "        \n",
    "        for match in player_matches:\n",
    "            participants = match[\"metadata\"][\"participants\"]\n",
    "\n",
    "            if set(participants).issuperset(team_members.keys()):\n",
    "                team_matches[match[\"metadata\"][\"matchId\"]] = match\n",
    "\n",
    "print(f\"There are {len(team_matches)} matches where every player in the team participated\")"
   ]
  }
 ],
 "metadata": {
  "kernelspec": {
   "display_name": "Python 3 (ipykernel)",
   "language": "python",
   "name": "python3"
  },
  "language_info": {
   "codemirror_mode": {
    "name": "ipython",
    "version": 3
   },
   "file_extension": ".py",
   "mimetype": "text/x-python",
   "name": "python",
   "nbconvert_exporter": "python",
   "pygments_lexer": "ipython3",
   "version": "3.10.6"
  }
 },
 "nbformat": 4,
 "nbformat_minor": 5
}
